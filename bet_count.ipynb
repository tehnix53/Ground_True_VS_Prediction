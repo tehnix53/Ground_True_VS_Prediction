{
 "cells": [
  {
   "cell_type": "code",
   "execution_count": 4,
   "metadata": {},
   "outputs": [],
   "source": [
    "import numpy as np\n",
    "import os\n",
    "from xml.etree import ElementTree\n",
    "from xml.etree.ElementTree import XMLParser\n",
    "from numpy import array\n",
    "float32 = 'float32'\n",
    "from PIL import Image\n",
    "import cv2\n",
    "import matplotlib.pyplot as plt"
   ]
  },
  {
   "cell_type": "code",
   "execution_count": 5,
   "metadata": {},
   "outputs": [],
   "source": [
    "test_dir = '/media/alex/Integral-ASIC/task_ggpokerok_groundtrue3categories-2020_10_21_12_52_30-labelme 3.0/test/'\n",
    "home_dir = '/media/alex/Integral-ASIC/task_ggpokerok_groundtrue3categories-2020_10_21_12_52_30-labelme 3.0/default'\n",
    "npy_dir = '/media/alex/Integral-ASIC/task_ggpokerok_groundtrue3categories-2020_10_21_12_52_30-labelme 3.0'\n",
    "dataset_name = 'GG_ground_true_3categ.npy'\n",
    "npy_data = os.path.join(npy_dir, dataset_name)\n",
    "dataset = np.load(npy_data, allow_pickle=True)\n",
    "xml = sorted([os.path.join(home_dir,i) for i in os.listdir(home_dir) if i.endswith('.xml')])\n",
    "images = sorted([os.path.join(home_dir,i) for i in os.listdir(home_dir) if i.endswith('.jpg')])\n",
    "drop_list = [9,10,26,29,30,45,52,53,56,57,58,61,62,63]\n",
    "new_xml = [xml[i] for i in range(len(xml)) if i not in drop_list]\n",
    "new_images = [images[i] for i in range(len(images)) if i not in drop_list] "
   ]
  },
  {
   "cell_type": "code",
   "execution_count": 7,
   "metadata": {},
   "outputs": [],
   "source": [
    "def bet_count(predict_array):\n",
    "    all_in = 0\n",
    "    sitting_out = 0\n",
    "    for i in predict_array:\n",
    "        if str(i[0]).startswith('sit'):\n",
    "            sitting_out += 1\n",
    "        elif str(i[0]).startswith('all'):\n",
    "            all_in += 1\n",
    "        else:\n",
    "            pass\n",
    "    return {'all_in':all_in, 'sitting_out':sitting_out}"
   ]
  },
  {
   "cell_type": "code",
   "execution_count": 22,
   "metadata": {},
   "outputs": [
    {
     "name": "stdout",
     "output_type": "stream",
     "text": [
      "0002.xml {'all_in': 0, 'sitting_out': 0}\n",
      "0195.xml {'all_in': 0, 'sitting_out': 0}\n",
      "0202.xml {'all_in': 0, 'sitting_out': 0}\n",
      "0214.xml {'all_in': 0, 'sitting_out': 0}\n",
      "0222.xml {'all_in': 0, 'sitting_out': 0}\n",
      "0223.xml {'all_in': 0, 'sitting_out': 0}\n",
      "0234.xml {'all_in': 0, 'sitting_out': 0}\n",
      "0246.xml {'all_in': 1, 'sitting_out': 0}\n",
      "0247.xml {'all_in': 0, 'sitting_out': 0}\n",
      "0337.xml {'all_in': 0, 'sitting_out': 0}\n",
      "0344.xml {'all_in': 0, 'sitting_out': 0}\n",
      "0360.xml {'all_in': 0, 'sitting_out': 0}\n",
      "0366.xml {'all_in': 0, 'sitting_out': 0}\n",
      "0374.xml {'all_in': 0, 'sitting_out': 0}\n",
      "0378.xml {'all_in': 0, 'sitting_out': 0}\n",
      "0500.xml {'all_in': 0, 'sitting_out': 0}\n",
      "0520.xml {'all_in': 0, 'sitting_out': 0}\n",
      "0528.xml {'all_in': 0, 'sitting_out': 0}\n",
      "0645.xml {'all_in': 0, 'sitting_out': 0}\n",
      "0681.xml {'all_in': 0, 'sitting_out': 0}\n",
      "0765.xml {'all_in': 0, 'sitting_out': 0}\n",
      "0779.xml {'all_in': 0, 'sitting_out': 0}\n",
      "0877.xml {'all_in': 0, 'sitting_out': 0}\n",
      "0917.xml {'all_in': 0, 'sitting_out': 0}\n",
      "0989.xml {'all_in': 0, 'sitting_out': 0}\n",
      "1019.xml {'all_in': 0, 'sitting_out': 0}\n",
      "1082.xml {'all_in': 0, 'sitting_out': 0}\n",
      "1092.xml {'all_in': 0, 'sitting_out': 0}\n",
      "1112.xml {'all_in': 0, 'sitting_out': 0}\n",
      "1127.xml {'all_in': 0, 'sitting_out': 0}\n",
      "1163.xml {'all_in': 1, 'sitting_out': 0}\n",
      "1182.xml {'all_in': 1, 'sitting_out': 1}\n",
      "1229.xml {'all_in': 0, 'sitting_out': 0}\n",
      "1234.xml {'all_in': 0, 'sitting_out': 0}\n",
      "1246.xml {'all_in': 0, 'sitting_out': 1}\n",
      "1247.xml {'all_in': 0, 'sitting_out': 1}\n",
      "1248.xml {'all_in': 0, 'sitting_out': 1}\n",
      "1294.xml {'all_in': 0, 'sitting_out': 0}\n",
      "1564.xml {'all_in': 0, 'sitting_out': 0}\n",
      "1944.xml {'all_in': 0, 'sitting_out': 0}\n",
      "1982.xml {'all_in': 0, 'sitting_out': 0}\n",
      "2143.xml {'all_in': 0, 'sitting_out': 0}\n",
      "2302.xml {'all_in': 0, 'sitting_out': 0}\n",
      "2310.xml {'all_in': 0, 'sitting_out': 0}\n",
      "2316.xml {'all_in': 0, 'sitting_out': 0}\n",
      "2521.xml {'all_in': 0, 'sitting_out': 0}\n",
      "2566.xml {'all_in': 0, 'sitting_out': 0}\n",
      "2610.xml {'all_in': 0, 'sitting_out': 0}\n",
      "2649.xml {'all_in': 0, 'sitting_out': 0}\n",
      "2656.xml {'all_in': 0, 'sitting_out': 0}\n",
      "2747.xml {'all_in': 0, 'sitting_out': 0}\n",
      "2761.xml {'all_in': 0, 'sitting_out': 0}\n",
      "2786.xml {'all_in': 0, 'sitting_out': 0}\n",
      "2801.xml {'all_in': 0, 'sitting_out': 0}\n"
     ]
    }
   ],
   "source": [
    "for i in range(len(dataset)):\n",
    "    number = new_xml[i].split('/')[-1][11::]\n",
    "    print (number, bet_count(dataset[i][1]))"
   ]
  }
 ],
 "metadata": {
  "kernelspec": {
   "display_name": "Python 3",
   "language": "python",
   "name": "python3"
  },
  "language_info": {
   "codemirror_mode": {
    "name": "ipython",
    "version": 3
   },
   "file_extension": ".py",
   "mimetype": "text/x-python",
   "name": "python",
   "nbconvert_exporter": "python",
   "pygments_lexer": "ipython3",
   "version": "3.6.8"
  }
 },
 "nbformat": 4,
 "nbformat_minor": 2
}
