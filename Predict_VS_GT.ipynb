{
 "cells": [
  {
   "cell_type": "code",
   "execution_count": 68,
   "metadata": {},
   "outputs": [],
   "source": [
    "import glob\n",
    "import numpy as np\n",
    "import os\n",
    "from xml.etree import ElementTree\n",
    "from xml.etree.ElementTree import XMLParser\n",
    "from numpy import array\n",
    "float32 = 'float32'\n",
    "from PIL import Image\n",
    "import cv2\n",
    "import matplotlib.pyplot as plt\n",
    "import pandas as pd\n",
    "from tqdm import tqdm_notebook"
   ]
  },
  {
   "cell_type": "code",
   "execution_count": 37,
   "metadata": {},
   "outputs": [],
   "source": [
    "def drop_dollar(some_str):\n",
    "    try:\n",
    "        if some_str[0] == '$':\n",
    "            return some_str[1::]\n",
    "        else:\n",
    "            return some_str\n",
    "    except:\n",
    "        pass\n",
    "    \n",
    "def rect_diagonal(some_array):\n",
    "    return [[int(some_array[0][0]), int(some_array[0][1])], [int(some_array[2][0]), int(some_array[2][1])]]    \n",
    "    \n",
    "    \n",
    "def ground_true_answer(xml_file):\n",
    "    tree = ElementTree.parse(xml_file)\n",
    "    root = tree.getroot()\n",
    "    symbols = ['♠','♥','♦️','♣','♦','♥','♠','♣','♠','♠','♣','♣','♦','♦'] \n",
    "    suite_list = []\n",
    "    rang_list = []\n",
    "    money_list = {}  \n",
    "    card_list = {}\n",
    "    other_list = []\n",
    "    for obj in root.findall('object'):\n",
    "        for i in obj:\n",
    "            if i.text == 'cards':\n",
    "                suite =  (obj.findall('attributes')[0].text).split('=')[1]        \n",
    "                a = (obj.findall('polygon')[0])            \n",
    "                coord = []\n",
    "                for i in a.findall('pt'):       \n",
    "                    pair = []\n",
    "                    for el in i:                \n",
    "                        pair+=[int(float(el.text))]\n",
    "                    coord +=[pair]\n",
    "                if suite in symbols:\n",
    "                    suite_list += [[suite, coord]]\n",
    "                elif suite not in symbols:\n",
    "                    rang_list += [[suite, coord]]\n",
    "\n",
    "            elif i.text == 'money':\n",
    "                money =  (obj.findall('attributes')[0].text).split('=')[1]\n",
    "                a = (obj.findall('polygon')[0])            \n",
    "                coord = []\n",
    "                for i in a.findall('pt'):       \n",
    "                    pair = []\n",
    "                    for el in i:                \n",
    "                        pair+=[int(float(el.text))]\n",
    "                    coord +=[pair]            \n",
    "                money_list[drop_dollar(money)]=rect_diagonal(coord)          \n",
    "            elif i.text == 'other':\n",
    "                other =  (obj.findall('attributes')[0].text).split('=')[1]\n",
    "                other_list += [other]   \n",
    "                \n",
    "      \n",
    "    for i in suite_list:\n",
    "        for j in rang_list:\n",
    "            if int(i[1][0][0])-15 < int(j[1][0][0]) < int(i[1][0][0]) + 15\\\n",
    "                        and int(i[1][0][1])-100 < int(j[1][0][1]) < int(i[1][0][1]) + 100:\n",
    "                card_list[j[0]+i[0]] = [j[1][0], i[1][2]]\n",
    "            \n",
    "    return card_list, money_list, other_list\n",
    "\n",
    "\n",
    "def predict_answer(predict):    \n",
    "    card_list = {}\n",
    "    money_list = {}\n",
    "    other_list = []\n",
    "    symbols = ['♠','♥','♦️','♣','♦','♥','♠','♣'] \n",
    "    for i in predict:\n",
    "        if i[0].startswith('$'):\n",
    "            money_list[drop_dollar(i[0])] = rect_diagonal(i[1])\n",
    "        elif len(i[0])==2 and i[0][1] in symbols:\n",
    "            card_list[i[0]] = rect_diagonal(i[1])\n",
    "        elif len(i[0])==3 and i[0][2] in symbols:\n",
    "            card_list[i[0]] = rect_diagonal(i[1])\n",
    "        elif len(i[0]) >= 2 and i[0][0] != '$'  and i[0][1] not in symbols:\n",
    "            other_list += [i[0]] \n",
    "            \n",
    "    return card_list, money_list, other_list\n",
    "\n",
    "\n",
    "def debug(predict_array, ground_dict, predict_dict, crop =False, save_dir=None, image_file=None): \n",
    "    wrong_answer = {}\n",
    "    for key, val in ground_dict.items():\n",
    "        if key not in predict_dict:     \n",
    "            wrong_answer[key] = val            \n",
    "    #print (wrong_answer)\n",
    "    recall_count = 0\n",
    "    for key, val in predict_dict.items():\n",
    "        if key not in ground_dict:     \n",
    "            recall_count += 1\n",
    "       \n",
    "    if crop == False:\n",
    "        pass\n",
    "    if crop == True:\n",
    "        for key, val in wrong_answer.items():\n",
    "            compare = val\n",
    "            x = compare[0][0]\n",
    "            y = compare[0][1]\n",
    "            for i in predict_array:\n",
    "                first_point = (rect_diagonal(i[1])[0])\n",
    "                x_pred = first_point[0]\n",
    "                y_pred = first_point[1]  \n",
    "                if x-10<x_pred<x+10 and y-10<y_pred<y+10:\n",
    "                        area = (val[0][0], val[0][1], val[1][0], val[1][1])\n",
    "                        wrong = drop_dollar(i[0])\n",
    "                        name = str(wrong)+'_pred_'+str(key)+'_true_'+'.jpg'\n",
    "                        image = Image.open(image_file)\n",
    "                        image.crop(area).save(save_dir+name)\n",
    "                        #print (wrong_answer, key, val)\n",
    "    \n",
    "    precision = round((len(ground_dict)-len(wrong_answer))/len(ground_dict),2)\n",
    "    \n",
    "    try:\n",
    "        recall = round((recall_count/len(predict_dict)),2)\n",
    "    except ZeroDivisionError:\n",
    "        recall = 0\n",
    "    return precision, recall\n",
    "    #return (round(100 - (round(len(wrong_answer)*100/len(ground_dict),2)),2))"
   ]
  },
  {
   "cell_type": "code",
   "execution_count": 41,
   "metadata": {},
   "outputs": [],
   "source": [
    "def other_metrics(other_gt, other_pred):   \n",
    "    count_precision = 0\n",
    "    cut_gt = [i[0:3] for i in other_gt]\n",
    "    cut_pred = [i[0:3] for i in other_pred]\n",
    "    count_precision = len([i for i in cut_pred if i in cut_gt])\n",
    "    count_recall = len([i for i in cut_gt if i not in cut_pred])\n",
    "    precision = round(count_precision/len(cut_gt),2)\n",
    "    recall = round(count_recall/len(cut_pred),2)\n",
    "    return precision, recall"
   ]
  },
  {
   "cell_type": "code",
   "execution_count": 44,
   "metadata": {},
   "outputs": [],
   "source": [
    "def answer_accuracy(ground_true_xml, predict_list,crop, image_file=None, save_dir=None):    \n",
    "    ground_true_data = ground_true_answer(ground_true_xml)\n",
    "    predict_data = predict_answer(predict_list)    \n",
    "    if crop == False:\n",
    "        card_accuracy = debug(predict_list, ground_true_data[0],predict_data[0])    \n",
    "        money_accuracy = debug(predict_list, ground_true_data[1], predict_data[1])  \n",
    "    elif crop == True:\n",
    "        card_accuracy = debug(predict_list, ground_true_data[0],predict_data[0],crop, save_dir, image_file)\n",
    "        money_accuracy = debug(predict_list, ground_true_data[1], predict_data[1], crop,save_dir, image_file)\n",
    "    other_accuracy = other_metrics(ground_true_data[2], predict_data[2])\n",
    "    return card_accuracy, money_accuracy, other_accuracy"
   ]
  },
  {
   "cell_type": "code",
   "execution_count": 67,
   "metadata": {},
   "outputs": [
    {
     "data": {
      "text/plain": [
       "(68, 68)"
      ]
     },
     "execution_count": 67,
     "metadata": {},
     "output_type": "execute_result"
    }
   ],
   "source": [
    "npy_data = '/home/alex/Загрузки/predict(2).npy'\n",
    "new_predict = np.load(npy_data, allow_pickle=True)\n",
    "new_gt_dir = '/media/alex/Integral-ASIC/GGPokerOk_GT_3_cat-20201113T152041Z-001/GGPokerOk_GT_3_cat'\n",
    "new_gt_xml = sorted([os.path.join(new_gt_dir,i) for i in os.listdir(new_gt_dir) if i.endswith('.xml')])\n",
    "new_gt_jpg = sorted([os.path.join(new_gt_dir,i) for i in os.listdir(new_gt_dir) if i.endswith('.jpg')])\n",
    "\n",
    "len(new_gt_xml), len(new_gt_jpg)"
   ]
  },
  {
   "cell_type": "code",
   "execution_count": 96,
   "metadata": {
    "scrolled": true
   },
   "outputs": [],
   "source": [
    "def quality_df(npy_file):\n",
    "    new_predict = np.load(npy_file, allow_pickle=True)\n",
    "    quality_results = { \n",
    "        'id': [],\n",
    "        'image_name':[], \n",
    "        'card_acc':[],\n",
    "        'card_recall':[],\n",
    "        'money_acc':[],\n",
    "        'money_recall':[],\n",
    "        'other_acc':[],\n",
    "        'other_recall':[]\n",
    "                        } \n",
    "    all_res = [] \n",
    "    for n in range(len(new_gt_xml)):\n",
    "\n",
    "        try:\n",
    "            res = answer_accuracy(new_gt_xml[n], new_predict[n], crop= False)\n",
    "            quality_results['image_name'].append(os.path.basename(new_gt_xml[n]))\n",
    "            quality_results['id'].append(n)\n",
    "            quality_results['card_acc'].append(res[0][0])\n",
    "            quality_results['card_recall'].append(res[0][1])               \n",
    "            quality_results['money_acc'].append(res[1][0])\n",
    "            quality_results['money_recall'].append(res[1][1])\n",
    "            quality_results['other_acc'].append(res[2][0])\n",
    "            quality_results['other_recall'].append(res[2][1]) \n",
    "            all_res.append([n, new_predict])\n",
    "\n",
    "        except Exception as e:\n",
    "            print(n, 'empty xml', e)\n",
    "\n",
    "    res_df = pd.DataFrame(quality_results)\n",
    "    return res_df"
   ]
  },
  {
   "cell_type": "code",
   "execution_count": null,
   "metadata": {},
   "outputs": [],
   "source": [
    "# statistic by different weights\n",
    "\n",
    "#content/drive/My Drive/Colab Notebooks/keras_ocr/rec_SynDataLinked_DigitDoll_DigitText_CapitText_2020-11-04T13 02 11.962919.h5\n",
    "#/content/drive/My Drive/Colab Notebooks/keras_ocr/rec_SynData_J_DigitsText_DigitsDoll_filtred_2020-11-13T09 42 34.756546.h5\n",
    "#/content/drive/My Drive/Colab Notebooks/keras_ocr/rec_SynData_DigitsText_DigitsDoll_filtred#_2020-11-06T15 11 18.873164.h5\n",
    "#/content/drive/My Drive/Colab Notebooks/keras_ocr/rec_DollarSynDataCards_bs16_0001_2020-10-16T16 18 04.659861.h5\n",
    "#/content/drive/My Drive/Colab Notebooks/keras_ocr/rec_TestOnSynCards_white_2020-11-06T08 02 31.285723.h5\n",
    "#/content/drive/My Drive/Colab Notebooks/keras_ocr/rec_Dollar_bs16_0001_2020-10-16T15 21 25.573674.h5\n",
    "\n",
    "\n",
    "#rec_11_04 = rec_weights[0]\n",
    "#rec_11_13 = rec_weights[1]\n",
    "#rec_11_06_0 = rec_weights[2]\n",
    "#rec_10_16_0 = rec_weights[3]\n",
    "#rec_11_06_1 = rec_weights[4]\n",
    "#rec_10_16_1 = rec_weights[5]\n",
    "\n"
   ]
  },
  {
   "cell_type": "code",
   "execution_count": 75,
   "metadata": {},
   "outputs": [],
   "source": [
    "npy_dir = '/media/alex/Integral-ASIC/npy'\n",
    "npy = sorted([os.path.join(npy_dir,i) for i in os.listdir(npy_dir)])"
   ]
  },
  {
   "cell_type": "code",
   "execution_count": 119,
   "metadata": {},
   "outputs": [],
   "source": [
    "weight_2 = quality_df(npy[0])\n",
    "weight_5 = quality_df(npy[1])\n",
    "weight_4 = quality_df(npy[2])\n",
    "weight_0 = quality_df(npy[3])\n",
    "weight_3 = quality_df(npy[4])\n",
    "weight_1 = quality_df(npy[5])"
   ]
  },
  {
   "cell_type": "code",
   "execution_count": 136,
   "metadata": {},
   "outputs": [],
   "source": [
    "all_df = [weight_0,weight_1, weight_2,weight_3,weight_4,weight_5]\n",
    "\n",
    "def mean_val(column):\n",
    "    out_list = []\n",
    "    for i in all_df:\n",
    "        mean = round(i[column].mean(),3)\n",
    "        out_list += [mean] \n",
    "    return out_list"
   ]
  },
  {
   "cell_type": "code",
   "execution_count": 130,
   "metadata": {},
   "outputs": [
    {
     "data": {
      "text/plain": [
       "0.009558823529411765"
      ]
     },
     "execution_count": 130,
     "metadata": {},
     "output_type": "execute_result"
    }
   ],
   "source": [
    "weight_0['card_acc'].mean()"
   ]
  },
  {
   "cell_type": "code",
   "execution_count": 138,
   "metadata": {},
   "outputs": [],
   "source": [
    "card_acc = mean_val('card_acc')\n",
    "card_recall = mean_val('card_recall')\n",
    "money_acc = mean_val('money_acc')\n",
    "money_recall = mean_val('money_recall')\n",
    "other_acc = mean_val('other_acc')\n",
    "other_recall = mean_val('other_recall')"
   ]
  },
  {
   "cell_type": "code",
   "execution_count": 142,
   "metadata": {},
   "outputs": [
    {
     "data": {
      "text/plain": [
       "[<matplotlib.lines.Line2D at 0x7f2b1447ff28>]"
      ]
     },
     "execution_count": 142,
     "metadata": {},
     "output_type": "execute_result"
    },
    {
     "data": {
      "image/png": "[encoded data removed]",
      "text/plain": [
       "<Figure size 432x288 with 6 Axes>"
      ]
     },
     "metadata": {
      "needs_background": "light"
     },
     "output_type": "display_data"
    }
   ],
   "source": [
    "    f, axarr = plt.subplots(3,2) \n",
    "\n",
    "    axarr[0][0].plot(card_acc)\n",
    "    axarr[0][1].plot(card_recall)\n",
    "    axarr[1][0].plot(money_acc)\n",
    "    axarr[1][1].plot(money_recall)\n",
    "    axarr[2][0].plot(other_acc)\n",
    "    axarr[2][1].plot(other_recall)"
   ]
  }
 ],
 "metadata": {
  "kernelspec": {
   "display_name": "Python 3",
   "language": "python",
   "name": "python3"
  },
  "language_info": {
   "codemirror_mode": {
    "name": "ipython",
    "version": 3
   },
   "file_extension": ".py",
   "mimetype": "text/x-python",
   "name": "python",
   "nbconvert_exporter": "python",
   "pygments_lexer": "ipython3",
   "version": "3.6.8"
  }
 },
 "nbformat": 4,
 "nbformat_minor": 2
}
